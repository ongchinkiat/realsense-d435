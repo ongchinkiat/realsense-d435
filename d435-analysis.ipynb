{
 "cells": [
  {
   "cell_type": "markdown",
   "metadata": {},
   "source": [
    "## Import libraries"
   ]
  },
  {
   "cell_type": "code",
   "execution_count": 1,
   "metadata": {},
   "outputs": [],
   "source": [
    "\n",
    "import pyrealsense2 as rs\n",
    "import numpy as np\n",
    "import cv2\n",
    "from matplotlib import pyplot as plt\n",
    "import re\n",
    "import os\n",
    "import time\n",
    "\n"
   ]
  },
  {
   "cell_type": "markdown",
   "metadata": {},
   "source": [
    "### constants to sync with values in d435-capture.ipynb\n",
    "\n"
   ]
  },
  {
   "cell_type": "code",
   "execution_count": 2,
   "metadata": {},
   "outputs": [],
   "source": [
    "depth_scale = 9.999999747378752e-05\n",
    "imgfolder = \"D:/d435/test/\"\n",
    "width = 1280\n",
    "height = 720\n"
   ]
  },
  {
   "cell_type": "markdown",
   "metadata": {},
   "source": [
    "### fetch all file names\n"
   ]
  },
  {
   "cell_type": "code",
   "execution_count": 10,
   "metadata": {},
   "outputs": [
    {
     "name": "stdout",
     "output_type": "stream",
     "text": [
      "['c_1540534762479.1584.npy', 'c_1540534762645.808.npy', 'c_1540534762813.2444.npy', 'd_1540534762479.1584.npy', 'd_1540534762645.808.npy', 'd_1540534762813.2444.npy']\n",
      "[1540534762479.1584, 1540534762645.808, 1540534762813.2444]\n",
      "['d_1540534762479.1584.npy', 'd_1540534762645.808.npy', 'd_1540534762813.2444.npy']\n"
     ]
    }
   ],
   "source": [
    "filelist = sorted(os.listdir(imgfolder))\n",
    "\n",
    "# ['c_1540534762479.1584.npy', 'c_1540534762645.808.npy', 'c_1540534762813.2444.npy', \n",
    "#  'd_1540534762479.1584.npy', 'd_1540534762645.808.npy', 'd_1540534762813.2444.npy']\n",
    "print(filelist)\n",
    "\n",
    "timesteps = []\n",
    "filetimes = []\n",
    "color_files = []\n",
    "depth_files = []\n",
    "\n",
    "for f in filelist:\n",
    "    result = re.search('c_(.*).npy', f)\n",
    "    if result and result.group(1):\n",
    "        t = result.group(1)\n",
    "        timesteps.append(float(t))\n",
    "        filetimes.append(t)\n",
    "        color_files.append(f)\n",
    "        depth_files.append(\"d_\" + t + \".npy\")\n",
    "\n",
    "print(timesteps)\n",
    "print(depth_files)"
   ]
  },
  {
   "cell_type": "code",
   "execution_count": 11,
   "metadata": {},
   "outputs": [
    {
     "ename": "FileNotFoundError",
     "evalue": "[Errno 2] No such file or directory: 'c_1540534762645.808.npy'",
     "output_type": "error",
     "traceback": [
      "\u001b[1;31m---------------------------------------------------------------------------\u001b[0m",
      "\u001b[1;31mFileNotFoundError\u001b[0m                         Traceback (most recent call last)",
      "\u001b[1;32m<ipython-input-11-87eb30557c72>\u001b[0m in \u001b[0;36m<module>\u001b[1;34m()\u001b[0m\n\u001b[1;32m----> 1\u001b[1;33m \u001b[0mcolor_image\u001b[0m \u001b[1;33m=\u001b[0m \u001b[0mnp\u001b[0m\u001b[1;33m.\u001b[0m\u001b[0mload\u001b[0m\u001b[1;33m(\u001b[0m\u001b[0mcolor_files\u001b[0m\u001b[1;33m[\u001b[0m\u001b[1;36m1\u001b[0m\u001b[1;33m]\u001b[0m\u001b[1;33m)\u001b[0m\u001b[1;33m\u001b[0m\u001b[0m\n\u001b[0m\u001b[0;32m      2\u001b[0m \u001b[0mdepth_image\u001b[0m \u001b[1;33m=\u001b[0m \u001b[0mnp\u001b[0m\u001b[1;33m.\u001b[0m\u001b[0mload\u001b[0m\u001b[1;33m(\u001b[0m\u001b[0mdepth_files\u001b[0m\u001b[1;33m[\u001b[0m\u001b[1;36m1\u001b[0m\u001b[1;33m]\u001b[0m\u001b[1;33m)\u001b[0m\u001b[1;33m\u001b[0m\u001b[0m\n\u001b[0;32m      3\u001b[0m \u001b[1;33m\u001b[0m\u001b[0m\n\u001b[0;32m      4\u001b[0m \u001b[1;33m\u001b[0m\u001b[0m\n\u001b[0;32m      5\u001b[0m \u001b[1;31m# Show images\u001b[0m\u001b[1;33m\u001b[0m\u001b[1;33m\u001b[0m\u001b[0m\n",
      "\u001b[1;32mc:\\program files (x86)\\microsoft visual studio\\shared\\python36_64\\lib\\site-packages\\numpy\\lib\\npyio.py\u001b[0m in \u001b[0;36mload\u001b[1;34m(file, mmap_mode, allow_pickle, fix_imports, encoding)\u001b[0m\n\u001b[0;32m    368\u001b[0m     \u001b[0mown_fid\u001b[0m \u001b[1;33m=\u001b[0m \u001b[1;32mFalse\u001b[0m\u001b[1;33m\u001b[0m\u001b[0m\n\u001b[0;32m    369\u001b[0m     \u001b[1;32mif\u001b[0m \u001b[0misinstance\u001b[0m\u001b[1;33m(\u001b[0m\u001b[0mfile\u001b[0m\u001b[1;33m,\u001b[0m \u001b[0mbasestring\u001b[0m\u001b[1;33m)\u001b[0m\u001b[1;33m:\u001b[0m\u001b[1;33m\u001b[0m\u001b[0m\n\u001b[1;32m--> 370\u001b[1;33m         \u001b[0mfid\u001b[0m \u001b[1;33m=\u001b[0m \u001b[0mopen\u001b[0m\u001b[1;33m(\u001b[0m\u001b[0mfile\u001b[0m\u001b[1;33m,\u001b[0m \u001b[1;34m\"rb\"\u001b[0m\u001b[1;33m)\u001b[0m\u001b[1;33m\u001b[0m\u001b[0m\n\u001b[0m\u001b[0;32m    371\u001b[0m         \u001b[0mown_fid\u001b[0m \u001b[1;33m=\u001b[0m \u001b[1;32mTrue\u001b[0m\u001b[1;33m\u001b[0m\u001b[0m\n\u001b[0;32m    372\u001b[0m     \u001b[1;32melif\u001b[0m \u001b[0mis_pathlib_path\u001b[0m\u001b[1;33m(\u001b[0m\u001b[0mfile\u001b[0m\u001b[1;33m)\u001b[0m\u001b[1;33m:\u001b[0m\u001b[1;33m\u001b[0m\u001b[0m\n",
      "\u001b[1;31mFileNotFoundError\u001b[0m: [Errno 2] No such file or directory: 'c_1540534762645.808.npy'"
     ]
    }
   ],
   "source": [
    "color_image = np.load(imgfolder + color_files[1])\n",
    "depth_image = np.load(imgfolder + depth_files[1])\n",
    "\n",
    "\n",
    "# Show images\n",
    "fig = plt.figure(figsize=(15, 15))\n",
    "table1 = fig.add_subplot(1,3,1)\n",
    "table1.set_title(\"RGB Image\")\n",
    "table1.imshow(cv2.cvtColor(color_image, cv2.COLOR_BGR2RGB))\n",
    "\n",
    "table2 = fig.add_subplot(1,3,2)\n",
    "table2.set_title(\"Depth Image\")\n",
    "table2.imshow(depth_imge, cmap='gray')\n"
   ]
  },
  {
   "cell_type": "code",
   "execution_count": 18,
   "metadata": {},
   "outputs": [
    {
     "name": "stdout",
     "output_type": "stream",
     "text": [
      "(720, 1280)\n",
      "24451\n",
      "2.44509993823\n",
      "(720, 1280, 3)\n",
      "[129 133 132]\n"
     ]
    }
   ],
   "source": [
    "print(depth_image_1.shape)\n",
    "print(depth_image_1[450,180])\n",
    "print(depth_image_1[450,180]*depth_scale)\n",
    "\n",
    "print(color_image.shape)\n",
    "print(color_image[450,180])\n"
   ]
  },
  {
   "cell_type": "code",
   "execution_count": null,
   "metadata": {},
   "outputs": [],
   "source": []
  }
 ],
 "metadata": {
  "kernelspec": {
   "display_name": "Python 3",
   "language": "python",
   "name": "python3"
  },
  "language_info": {
   "codemirror_mode": {
    "name": "ipython",
    "version": 3
   },
   "file_extension": ".py",
   "mimetype": "text/x-python",
   "name": "python",
   "nbconvert_exporter": "python",
   "pygments_lexer": "ipython3",
   "version": "3.6.3"
  }
 },
 "nbformat": 4,
 "nbformat_minor": 2
}
